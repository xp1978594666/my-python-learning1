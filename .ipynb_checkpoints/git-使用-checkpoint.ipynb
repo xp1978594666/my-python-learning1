{
 "cells": [
  {
   "cell_type": "markdown",
   "metadata": {},
   "source": [
    "\n",
    "# git 使用\n",
    "1.注册一个git账户，官网https://github.com/\n",
    "2.登录并创建一个远程仓库\n",
    "3.创建本地仓库\n",
    "-安装对应的git版本\n",
    "-git init 初始化本地仓库\n",
    "-git add.提交本地所有文件（也可以git add 文件名），提交是把他提交到暂存区\n",
    "-git commit 执行完这条命令的时候才把文件从暂存区提交到本地仓库，-m参数，带说明提交\n",
    "  git commit -m \"注释\"\n",
    "4.配置git\n",
    "-生成私钥 ssh-keygen -t rsa -c \"xp1978594666@xp1978594666.com\"并添加到git中\n",
    "-添加全局环境\n",
    "    git config --global user.name \"xp1978594666\"\n",
    "    git config --global user.email\"1978594666@1978594666.com\"\n",
    "-添加远程地址\n",
    "    git remote add origin git@github.com:xp1978594666/python-.git\n",
    "5.把本地仓库提交到远程仓库中去\n",
    "\n",
    "    git push -u origin master\n",
    "    \n",
    "    下载别人代码\n",
    "    git clone 远程仓库地址\n",
    "    直接下载压缩包\n"
   ]
  },
  {
   "cell_type": "code",
   "execution_count": null,
   "metadata": {
    "collapsed": true
   },
   "outputs": [],
   "source": [
    "git remote add origin git@github.com:xp1978594666/python-2\n",
    "    git remote add origin git@github.com:xp1978594666/python-2.git\n",
    "        git remote rm origin \"删除 远程 origin 已经存在\"\n",
    "        git push -u origin master\n",
    "        git push origin master -f"
   ]
  },
  {
   "cell_type": "code",
   "execution_count": null,
   "metadata": {
    "collapsed": true
   },
   "outputs": [],
   "source": [
    "git remote add origin git@github.com:xp1978594666/python-text.git"
   ]
  },
  {
   "cell_type": "code",
   "execution_count": null,
   "metadata": {
    "collapsed": true
   },
   "outputs": [],
   "source": [
    "xp1978594666/my-python-learning\n",
    "git remote add origin git@github.com:xp1978594666/my-python-learning.git"
   ]
  },
  {
   "cell_type": "code",
   "execution_count": 2,
   "metadata": {},
   "outputs": [
    {
     "name": "stdout",
     "output_type": "stream",
     "text": [
      "我的身高是175cm,体重是60kg\n"
     ]
    }
   ],
   "source": [
    "# format格式化字符串\n",
    "\n",
    "#非关键字参数\n",
    "str1 = \"我的身高是{},体重是{}\"\n",
    "res = str1.format('175cm', '60kg')\n",
    "print(res)"
   ]
  },
  {
   "cell_type": "code",
   "execution_count": 4,
   "metadata": {},
   "outputs": [
    {
     "name": "stdout",
     "output_type": "stream",
     "text": [
      "我的身高是175cm,体重是60kg,175cm是今天测的\n"
     ]
    }
   ],
   "source": [
    "#多次利用参数\n",
    "str1 = \"我的身高是{0},体重是{1},{0}是今天测的\"\n",
    "res = str1.format('175cm', '60kg')\n",
    "print(res)"
   ]
  },
  {
   "cell_type": "code",
   "execution_count": 5,
   "metadata": {},
   "outputs": [
    {
     "name": "stdout",
     "output_type": "stream",
     "text": [
      "我的身高是175cm,体重是60kg\n"
     ]
    }
   ],
   "source": [
    "#关键字参数\n",
    "str1 = \"我的身高是{height},体重是{weight}\"\n",
    "res = str1.format(height='175cm', weight='60kg')\n",
    "print(res)\n"
   ]
  },
  {
   "cell_type": "code",
   "execution_count": 6,
   "metadata": {},
   "outputs": [
    {
     "name": "stdout",
     "output_type": "stream",
     "text": [
      "我的身高是175cm,体重是60kg\n"
     ]
    }
   ],
   "source": [
    "#2.普通下标\n",
    "str1 = \"我的身高是{0[0]},体重是{0[1]}\"\n",
    "#format函数里面传入的是可迭代对象,例如列表,元组,字典\n",
    "res = str1.format(['175cm', '60kg'])\n",
    "print(res)\n",
    "\n"
   ]
  },
  {
   "cell_type": "code",
   "execution_count": 7,
   "metadata": {},
   "outputs": [
    {
     "name": "stdout",
     "output_type": "stream",
     "text": [
      "我的身高是175cm,体重是60kg\n"
     ]
    }
   ],
   "source": [
    "str1 = \"我的身高是{0[h]},体重是{0[w]}\"\n",
    "#format函数里传入字典\n",
    "dict1 = {'h':'175cm','w':'60kg'}\n",
    "res = str1.format({'h':'175cm','w':'60kg'})\n",
    "#等价于 res = str1.format(dict1)\n",
    "print(res)"
   ]
  },
  {
   "cell_type": "code",
   "execution_count": 8,
   "metadata": {},
   "outputs": [
    {
     "name": "stdout",
     "output_type": "stream",
     "text": [
      "我知道π的值是3.14 \n"
     ]
    }
   ],
   "source": [
    "#3.格式限定符\n",
    "res = '我知道π的值是{:0.2f} '.format(3.1415926)\n",
    "print(res)"
   ]
  },
  {
   "cell_type": "code",
   "execution_count": 9,
   "metadata": {},
   "outputs": [
    {
     "name": "stdout",
     "output_type": "stream",
     "text": [
      "10的二进制是1010\n",
      "10的八进制是12\n",
      "10的十六进制是a\n",
      "10的十进制是10\n"
     ]
    }
   ],
   "source": [
    "#进制输出\n",
    "res = '10的二进制是{:b}'.format(10)\n",
    "print(res)\n",
    "res = '10的八进制是{:o}'.format(10)\n",
    "print(res)\n",
    "res = '10的十六进制是{:x}'.format(10)\n",
    "print(res)\n",
    "res = '10的十进制是{:d}'.format(10)\n",
    "print(res)"
   ]
  },
  {
   "cell_type": "code",
   "execution_count": 11,
   "metadata": {},
   "outputs": [
    {
     "name": "stdout",
     "output_type": "stream",
     "text": [
      "1000000000000\n",
      "我值900,000,000,000,000,000多钱\n"
     ]
    }
   ],
   "source": [
    "#格式化\n",
    "print(1000000000000)\n",
    "res = '我值{:,}多钱'.format(900000000000000000)\n",
    "print(res)"
   ]
  },
  {
   "cell_type": "code",
   "execution_count": 12,
   "metadata": {},
   "outputs": [
    {
     "name": "stdout",
     "output_type": "stream",
     "text": [
      "haha     123\n",
      "haha123     \n"
     ]
    }
   ],
   "source": [
    "# 填充对齐 <左对齐  >右对齐  ^居中\n",
    "res = 'haha{:>8}'.format(123)\n",
    "print(res)\n",
    "res = 'haha{:<8}'.format(123)\n",
    "print(res)"
   ]
  },
  {
   "cell_type": "code",
   "execution_count": 16,
   "metadata": {},
   "outputs": [
    {
     "name": "stdout",
     "output_type": "stream",
     "text": [
      "01234"
     ]
    }
   ],
   "source": [
    "#打印一个矩形\n",
    "for i in range(5):\n",
    "    print(i,end=\"\")"
   ]
  },
  {
   "cell_type": "code",
   "execution_count": 17,
   "metadata": {},
   "outputs": [
    {
     "name": "stdout",
     "output_type": "stream",
     "text": [
      "0 1 2 3 4 "
     ]
    }
   ],
   "source": [
    "#打印一个矩形\n",
    "for i in range(5):\n",
    "    print(i,end=\" \")"
   ]
  },
  {
   "cell_type": "code",
   "execution_count": 18,
   "metadata": {},
   "outputs": [
    {
     "name": "stdout",
     "output_type": "stream",
     "text": [
      "0\n",
      "1\n",
      "2\n",
      "3\n",
      "4\n"
     ]
    }
   ],
   "source": [
    "#打印一个矩形\n",
    "for i in range(5):\n",
    "    print(i,end=\"\\n\")"
   ]
  },
  {
   "cell_type": "code",
   "execution_count": 22,
   "metadata": {},
   "outputs": [
    {
     "name": "stdout",
     "output_type": "stream",
     "text": [
      "* * * * * * * * \n",
      "\n",
      "* * * * * * * * \n",
      "\n",
      "* * * * * * * * \n",
      "\n",
      "* * * * * * * * \n",
      "\n",
      "* * * * * * * * \n",
      "\n"
     ]
    }
   ],
   "source": [
    "#这个循环控制行\n",
    "for i in range(5):\n",
    "    #这个循环控制列\n",
    "    for j in range(0,8):\n",
    "        print('*',end=\" \")\n",
    "    print('\\n')"
   ]
  },
  {
   "cell_type": "code",
   "execution_count": 23,
   "metadata": {},
   "outputs": [
    {
     "name": "stdout",
     "output_type": "stream",
     "text": [
      "* * * * * * * * \n",
      "* * * * * * * * \n",
      "* * * * * * * * \n",
      "* * * * * * * * \n",
      "* * * * * * * * \n"
     ]
    }
   ],
   "source": [
    "#这个循环控制行\n",
    "for i in range(5):\n",
    "    #这个循环控制列\n",
    "    for j in range(0,8):\n",
    "        print('*',end=\" \")\n",
    "    print('')"
   ]
  },
  {
   "cell_type": "code",
   "execution_count": 25,
   "metadata": {},
   "outputs": [
    {
     "name": "stdout",
     "output_type": "stream",
     "text": [
      "*\n",
      "*\n",
      "*\n",
      "*\n",
      "*\n",
      "*\n",
      "*\n",
      "*\n",
      "\n",
      "*\n",
      "*\n",
      "*\n",
      "*\n",
      "*\n",
      "*\n",
      "*\n",
      "*\n",
      "\n",
      "*\n",
      "*\n",
      "*\n",
      "*\n",
      "*\n",
      "*\n",
      "*\n",
      "*\n",
      "\n",
      "*\n",
      "*\n",
      "*\n",
      "*\n",
      "*\n",
      "*\n",
      "*\n",
      "*\n",
      "\n",
      "*\n",
      "*\n",
      "*\n",
      "*\n",
      "*\n",
      "*\n",
      "*\n",
      "*\n",
      "\n"
     ]
    }
   ],
   "source": [
    "#这个循环控制行\n",
    "for i in range(5):\n",
    "    #这个循环控制列\n",
    "    for j in range(0,8):\n",
    "        print('*',end=\"\\n\")\n",
    "    print('')"
   ]
  },
  {
   "cell_type": "code",
   "execution_count": 29,
   "metadata": {},
   "outputs": [
    {
     "name": "stdout",
     "output_type": "stream",
     "text": [
      "请输入行数:4\n",
      "请输入列数6\n",
      "* * * * * * \n",
      "* * * * * * \n",
      "* * * * * * \n",
      "* * * * * * \n"
     ]
    }
   ],
   "source": [
    "#打印一个矩形\n",
    "row = input(\"请输入行数:\")\n",
    "lie = input(\"请输入列数\")\n",
    "#这个循环控制行\n",
    "for i in range(int(row)):\n",
    "    #这个循环控制列\n",
    "    for j in range(int(lie)):\n",
    "        print('*',end=\" \")\n",
    "    print('')\n",
    "    "
   ]
  },
  {
   "cell_type": "code",
   "execution_count": 34,
   "metadata": {},
   "outputs": [
    {
     "name": "stdout",
     "output_type": "stream",
     "text": [
      "\n",
      "* \n",
      "* * \n",
      "* * * \n",
      "* * * * \n"
     ]
    }
   ],
   "source": [
    "#打印三角形\n",
    "#控制行\n",
    "for m in range(5):\n",
    "    #控制列\n",
    "    for n in range(5-m,5):\n",
    "        print('*',end=\" \")\n",
    "    print('')"
   ]
  },
  {
   "cell_type": "code",
   "execution_count": 35,
   "metadata": {},
   "outputs": [
    {
     "name": "stdout",
     "output_type": "stream",
     "text": [
      "* \n",
      "* * \n",
      "* * * \n",
      "* * * * \n",
      "* * * * * \n"
     ]
    }
   ],
   "source": [
    "#打印三角形\n",
    "#控制行\n",
    "for m in range(5):\n",
    "    #控制列\n",
    "    for n in range(5-m,6):\n",
    "        print('*',end=\" \")\n",
    "    print('')"
   ]
  },
  {
   "cell_type": "code",
   "execution_count": 37,
   "metadata": {},
   "outputs": [
    {
     "name": "stdout",
     "output_type": "stream",
     "text": [
      "请输入行数:6\n",
      "\n",
      "* \n",
      "* * \n",
      "* * * \n",
      "* * * * \n",
      "* * * * * \n"
     ]
    }
   ],
   "source": [
    "#打印三角形\n",
    "row = input(\"请输入行数:\")\n",
    "#控制行\n",
    "for m in range(int(row)):\n",
    "    #控制列\n",
    "    for n in range(int(row)-m,int(row)):\n",
    "        print('*',end=\" \")\n",
    "    print('')"
   ]
  },
  {
   "cell_type": "code",
   "execution_count": null,
   "metadata": {
    "collapsed": true
   },
   "outputs": [],
   "source": []
  },
  {
   "cell_type": "code",
   "execution_count": 47,
   "metadata": {},
   "outputs": [
    {
     "name": "stdout",
     "output_type": "stream",
     "text": [
      "1x1=1  \n",
      "2x1=2  2x2=4  \n",
      "3x1=3  3x2=6  3x3=9  \n",
      "4x1=4  4x2=8  4x3=12 4x4=16 \n",
      "5x1=5  5x2=10 5x3=15 5x4=20 5x5=25 \n",
      "6x1=6  6x2=12 6x3=18 6x4=24 6x5=30 6x6=36 \n",
      "7x1=7  7x2=14 7x3=21 7x4=28 7x5=35 7x6=42 7x7=49 \n",
      "8x1=8  8x2=16 8x3=24 8x4=32 8x5=40 8x6=48 8x7=56 8x8=64 \n",
      "9x1=9  9x2=18 9x3=27 9x4=36 9x5=45 9x6=54 9x7=63 9x8=72 9x9=81 \n"
     ]
    }
   ],
   "source": [
    "#根据直角三角形可以改装成九九乘法表\n",
    "for m in range(1,10):\n",
    "    #控制列\n",
    "    # for n in range(10-m,10):\n",
    "    for n in range(1,m+1):\n",
    "        print(\"%dx%d=%-2d\"%(m,n,m*n),end=\" \")\n",
    "    print('')\n"
   ]
  },
  {
   "cell_type": "code",
   "execution_count": 49,
   "metadata": {},
   "outputs": [
    {
     "name": "stdout",
     "output_type": "stream",
     "text": [
      "1x9=9  \n",
      "2x8=16 2x9=18 \n",
      "3x7=21 3x8=24 3x9=27 \n",
      "4x6=24 4x7=28 4x8=32 4x9=36 \n",
      "5x5=25 5x6=30 5x7=35 5x8=40 5x9=45 \n",
      "6x4=24 6x5=30 6x6=36 6x7=42 6x8=48 6x9=54 \n",
      "7x3=21 7x4=28 7x5=35 7x6=42 7x7=49 7x8=56 7x9=63 \n",
      "8x2=16 8x3=24 8x4=32 8x5=40 8x6=48 8x7=56 8x8=64 8x9=72 \n",
      "9x1=9  9x2=18 9x3=27 9x4=36 9x5=45 9x6=54 9x7=63 9x8=72 9x9=81 \n"
     ]
    }
   ],
   "source": [
    "#根据直角三角形可以改装成九九乘法表\n",
    "for m in range(1,10):\n",
    "    #控制列\n",
    "    for n in range(10-m,10):\n",
    "    #for n in range(1,m+1):\n",
    "        print(\"%dx%d=%-2d\"%(m,n,m*n),end=\" \")\n",
    "    print('')\n"
   ]
  },
  {
   "cell_type": "code",
   "execution_count": null,
   "metadata": {
    "collapsed": true
   },
   "outputs": [],
   "source": []
  },
  {
   "cell_type": "code",
   "execution_count": null,
   "metadata": {
    "collapsed": true
   },
   "outputs": [],
   "source": []
  },
  {
   "cell_type": "code",
   "execution_count": null,
   "metadata": {
    "collapsed": true
   },
   "outputs": [],
   "source": []
  },
  {
   "cell_type": "code",
   "execution_count": null,
   "metadata": {
    "collapsed": true
   },
   "outputs": [],
   "source": []
  },
  {
   "cell_type": "code",
   "execution_count": null,
   "metadata": {
    "collapsed": true
   },
   "outputs": [],
   "source": []
  },
  {
   "cell_type": "code",
   "execution_count": null,
   "metadata": {
    "collapsed": true
   },
   "outputs": [],
   "source": []
  },
  {
   "cell_type": "code",
   "execution_count": null,
   "metadata": {
    "collapsed": true
   },
   "outputs": [],
   "source": []
  },
  {
   "cell_type": "code",
   "execution_count": null,
   "metadata": {
    "collapsed": true
   },
   "outputs": [],
   "source": []
  },
  {
   "cell_type": "code",
   "execution_count": null,
   "metadata": {
    "collapsed": true
   },
   "outputs": [],
   "source": []
  },
  {
   "cell_type": "code",
   "execution_count": null,
   "metadata": {
    "collapsed": true
   },
   "outputs": [],
   "source": []
  },
  {
   "cell_type": "code",
   "execution_count": null,
   "metadata": {
    "collapsed": true
   },
   "outputs": [],
   "source": []
  },
  {
   "cell_type": "code",
   "execution_count": null,
   "metadata": {
    "collapsed": true
   },
   "outputs": [],
   "source": []
  },
  {
   "cell_type": "code",
   "execution_count": null,
   "metadata": {
    "collapsed": true
   },
   "outputs": [],
   "source": []
  },
  {
   "cell_type": "code",
   "execution_count": null,
   "metadata": {
    "collapsed": true
   },
   "outputs": [],
   "source": []
  },
  {
   "cell_type": "code",
   "execution_count": null,
   "metadata": {
    "collapsed": true
   },
   "outputs": [],
   "source": []
  }
 ],
 "metadata": {
  "kernelspec": {
   "display_name": "Python 3",
   "language": "python",
   "name": "python3"
  },
  "language_info": {
   "codemirror_mode": {
    "name": "ipython",
    "version": 3
   },
   "file_extension": ".py",
   "mimetype": "text/x-python",
   "name": "python",
   "nbconvert_exporter": "python",
   "pygments_lexer": "ipython3",
   "version": "3.6.3"
  }
 },
 "nbformat": 4,
 "nbformat_minor": 2
}
