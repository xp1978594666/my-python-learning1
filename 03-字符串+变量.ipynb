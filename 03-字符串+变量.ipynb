{
 "cells": [
  {
   "cell_type": "code",
   "execution_count": null,
   "metadata": {
    "collapsed": true
   },
   "outputs": [],
   "source": [
    "#字符串\n",
    "-转义字符\n",
    "-格式化\n",
    "-内建函数\n",
    "##转义字符\n",
    "-用一个特殊的方法表示出一系列不方便写出的内容，比如回车键，换行键，退格键\n",
    "-借助反斜杠字符，一旦字符串中出现反斜杠，则反斜杠后面一个或几个字符表示已经不是原来的意思了，进行了转译\n",
    "-在字符串中，一旦出现反斜杠要加倍小心，可能有转义字符出现\n",
    "-不同系统对换行操作有不同的表示\n",
    "-windoes: \\n\n",
    "-Linux: \\r\\n"
   ]
  },
  {
   "cell_type": "code",
   "execution_count": 1,
   "metadata": {},
   "outputs": [
    {
     "name": "stdout",
     "output_type": "stream",
     "text": [
      "i like galaxy\n"
     ]
    }
   ],
   "source": [
    "s=\"i like galaxy\"\n",
    "print(s)"
   ]
  },
  {
   "cell_type": "code",
   "execution_count": 8,
   "metadata": {},
   "outputs": [
    {
     "name": "stdout",
     "output_type": "stream",
     "text": [
      "Let's go\n",
      "Let's go\n",
      "c:\\user\n",
      "I love \r\n",
      " galaxy\n"
     ]
    }
   ],
   "source": [
    "#如果想表示出Let's go来\n",
    "#1、可以使用嵌套引号，即外层使用双引号\n",
    "#2、转义字符\n",
    "s=\"Let's go\"\n",
    "print(s)\n",
    "#\\'=='\n",
    "ss='Let\\'s go'\n",
    "print(ss)\n",
    "#\\\\==\\\n",
    "sss=\"c:\\\\user\"\n",
    "print(sss)\n",
    "#回车换行符\n",
    "s1=\"I love \\r\\n galaxy\"\n",
    "print(s1)"
   ]
  },
  {
   "cell_type": "code",
   "execution_count": 9,
   "metadata": {
    "scrolled": true
   },
   "outputs": [
    {
     "ename": "NameError",
     "evalue": "name '把字符串按照一定格式打印或者填充' is not defined",
     "output_type": "error",
     "traceback": [
      "\u001b[0;31m---------------------------------------------------------------------------\u001b[0m",
      "\u001b[0;31mNameError\u001b[0m                                 Traceback (most recent call last)",
      "\u001b[0;32m<ipython-input-9-487eaa5639da>\u001b[0m in \u001b[0;36m<module>\u001b[0;34m()\u001b[0m\n\u001b[1;32m      1\u001b[0m \u001b[0;31m##字符串的格式化\u001b[0m\u001b[0;34m\u001b[0m\u001b[0;34m\u001b[0m\u001b[0m\n\u001b[0;32m----> 2\u001b[0;31m \u001b[0;34m-\u001b[0m\u001b[0m把字符串按照一定格式打印或者填充\u001b[0m\u001b[0;34m\u001b[0m\u001b[0m\n\u001b[0m",
      "\u001b[0;31mNameError\u001b[0m: name '把字符串按照一定格式打印或者填充' is not defined"
     ]
    }
   ],
   "source": [
    "##字符串的格式化\n",
    "-把字符串按照一定格式打印或者填充\n",
    "-格式化由两种方法\n",
    "    -利用百分号(%)\n",
    "    -利用format函数\n",
    "    "
   ]
  },
  {
   "cell_type": "code",
   "execution_count": null,
   "metadata": {
    "collapsed": true
   },
   "outputs": [],
   "source": [
    "s=\"xx你好，\"\n",
    "\n",
    "利用百分号格式化\n",
    ".在字符串中，利用%表示一个特殊的含义，表示对字符串进行格式化\n",
    ".%d:此处应该放一个整数\n",
    ".%s:表示此处应该放入一个字符串"
   ]
  },
  {
   "cell_type": "code",
   "execution_count": 10,
   "metadata": {},
   "outputs": [
    {
     "name": "stdout",
     "output_type": "stream",
     "text": [
      "I love %s\n"
     ]
    }
   ],
   "source": [
    "s=\"I love %s\"\n",
    "#下面打印，直接把%s作为字符串的一个内容打印出来\n",
    "print(s)"
   ]
  },
  {
   "cell_type": "code",
   "execution_count": null,
   "metadata": {
    "collapsed": true
   },
   "outputs": [],
   "source": [
    "print(s%galaxy)"
   ]
  },
  {
   "cell_type": "code",
   "execution_count": 11,
   "metadata": {},
   "outputs": [
    {
     "name": "stdout",
     "output_type": "stream",
     "text": [
      "I love galaxy\n"
     ]
    }
   ],
   "source": [
    "print(\"I love %s\"%\"galaxy\")"
   ]
  },
  {
   "cell_type": "code",
   "execution_count": 12,
   "metadata": {},
   "outputs": [
    {
     "name": "stdout",
     "output_type": "stream",
     "text": [
      "I love galaxy\n"
     ]
    }
   ],
   "source": [
    "print(s%\"galaxy\")"
   ]
  },
  {
   "cell_type": "code",
   "execution_count": 13,
   "metadata": {},
   "outputs": [
    {
     "name": "stdout",
     "output_type": "stream",
     "text": [
      "I am %d years old\n",
      "I am 18 years old\n"
     ]
    }
   ],
   "source": [
    "s=\"I am %d years old\"\n",
    "#留意下面两句话的区别和结果\n",
    "print(s)\n",
    "print(s%18)"
   ]
  },
  {
   "cell_type": "code",
   "execution_count": 14,
   "metadata": {},
   "outputs": [
    {
     "name": "stdout",
     "output_type": "stream",
     "text": [
      "I am %s,i am %d years old\n"
     ]
    },
    {
     "ename": "TypeError",
     "evalue": "not enough arguments for format string",
     "output_type": "error",
     "traceback": [
      "\u001b[0;31m---------------------------------------------------------------------------\u001b[0m",
      "\u001b[0;31mTypeError\u001b[0m                                 Traceback (most recent call last)",
      "\u001b[0;32m<ipython-input-14-64ac9644c123>\u001b[0m in \u001b[0;36m<module>\u001b[0;34m()\u001b[0m\n\u001b[1;32m      1\u001b[0m \u001b[0ms\u001b[0m\u001b[0;34m=\u001b[0m\u001b[0;34m\"I am %s,i am %d years old\"\u001b[0m\u001b[0;34m\u001b[0m\u001b[0m\n\u001b[1;32m      2\u001b[0m \u001b[0mprint\u001b[0m\u001b[0;34m(\u001b[0m\u001b[0ms\u001b[0m\u001b[0;34m)\u001b[0m\u001b[0;34m\u001b[0m\u001b[0m\n\u001b[0;32m----> 3\u001b[0;31m \u001b[0mprint\u001b[0m\u001b[0;34m(\u001b[0m\u001b[0ms\u001b[0m\u001b[0;34m%\u001b[0m\u001b[0;34m\"tulingxueyuan\"\u001b[0m\u001b[0;34m)\u001b[0m\u001b[0;34m\u001b[0m\u001b[0m\n\u001b[0m",
      "\u001b[0;31mTypeError\u001b[0m: not enough arguments for format string"
     ]
    }
   ],
   "source": [
    "s=\"I am %s,i am %d years old\"\n",
    "print(s)\n",
    "#注意以下表达的出错原因\n",
    "#如果字符串中有占位符，则有几个占位符必须用几个实际内容代替，或者一个也不要\n",
    "#print(s%\"tulingxueyuan\")\n",
    "\n",
    "#如果出现多个占用位，则相应内容需要用括号括起来\n",
    "print(s%\"tulingxueyuan\")\n"
   ]
  },
  {
   "cell_type": "code",
   "execution_count": null,
   "metadata": {
    "collapsed": true
   },
   "outputs": [],
   "source": [
    "###format函数格式化字符串\n",
    "-直接用format函数进行格式化\n",
    "-推荐使用这种方法\n",
    "-在使用上，以{}和:代替%号，后面用format带参数完成"
   ]
  },
  {
   "cell_type": "code",
   "execution_count": 15,
   "metadata": {},
   "outputs": [
    {
     "name": "stdout",
     "output_type": "stream",
     "text": [
      "I love galaxy\n",
      "I am 18 years old,I love tulingxueyuan and i am 18 years old\n"
     ]
    }
   ],
   "source": [
    "s=\"I love {}\".format(\"galaxy\")\n",
    "print(s)\n",
    "s=\"I am {1} years old,I love {0} and i am {1} years old\".format(\"tulingxueyuan\",18)\n",
    "print(s)"
   ]
  },
  {
   "cell_type": "code",
   "execution_count": null,
   "metadata": {
    "collapsed": true
   },
   "outputs": [],
   "source": [
    "##None\n",
    "-表示什么都没有\n",
    "-如果函数没有返回值，可以返回None\n",
    "-用来占位置\n",
    "-用来接触变量绑定\n",
    "\n",
    "#表达式\n",
    ".由一个或者几个数字或者变量和运算符组合成的一行代码\n",
    ".通常会返回一个结果\n",
    "\n",
    "#运算符\n",
    ".由一个以上的值经过变化得到新值的过程就叫运算\n",
    ".用于运算的符号叫做运算符\n",
    ".运算符分类:\n",
    "    .算术运算符\n",
    "    .比较或者关系运算符\n",
    "    .赋值运算符\n",
    "    .逻辑运算符\n",
    "    .位运算\n",
    "    .成员运算\n",
    "    .身份运算符\n",
    "    \n",
    "算术运算符\n",
    " .进行算术运算的符号\n",
    " .python没有自增自减运算符"
   ]
  },
  {
   "cell_type": "code",
   "execution_count": 18,
   "metadata": {},
   "outputs": [
    {
     "name": "stdout",
     "output_type": "stream",
     "text": [
      "10\n",
      "36\n",
      "3.0\n",
      "1\n",
      "2\n",
      "27\n",
      "3125\n"
     ]
    }
   ],
   "source": [
    "#+，-，——跟正常运算符一模一样\n",
    "a=9+3-2\n",
    "print(a)\n",
    "#乘号用星号(*)代替\n",
    "a=9*4\n",
    "print(a)\n",
    "#除号用斜杠{|}代替\n",
    "a=9/3\n",
    "print(a)\n",
    "\n",
    "\n",
    "# % 取余运算\n",
    "#两数相除应该有商数有余数\n",
    "#%只会得到余数\n",
    "a=9%4\n",
    "print(a)\n",
    "\n",
    "\n",
    "#//取商运算，也叫地板除\n",
    "a=9//4\n",
    "print(a)\n",
    "\n",
    "#**表示幂运算\n",
    "a=3**3\n",
    "print(a)\n",
    "a=5**5\n",
    "print(a)"
   ]
  },
  {
   "cell_type": "code",
   "execution_count": null,
   "metadata": {
    "collapsed": true
   },
   "outputs": [],
   "source": [
    "##比较运算符\n",
    "-对两个变量或者值进行比较的运算符\n",
    "-比较的结果是布尔值，即Ture/False"
   ]
  },
  {
   "cell_type": "code",
   "execution_count": 19,
   "metadata": {},
   "outputs": [
    {
     "name": "stdout",
     "output_type": "stream",
     "text": [
      "False\n",
      "True\n"
     ]
    }
   ],
   "source": [
    "#==,等于号\n",
    "a==3**4\n",
    "#下面语句执行顺序是\n",
    "#1、计算a==80\n",
    "#2、把结果放入b中\n",
    "b=a==80\n",
    "print(b)\n",
    "\n",
    "\n",
    "\n",
    "#!=不等于\n",
    "print(9!=8)\n",
    "\n",
    "# >大于\n",
    "# <小于\n",
    "# >=大于等于\n",
    "# <=小于等于\n"
   ]
  },
  {
   "cell_type": "code",
   "execution_count": null,
   "metadata": {
    "collapsed": true
   },
   "outputs": [],
   "source": [
    "##赋值运算符\n"
   ]
  },
  {
   "cell_type": "code",
   "execution_count": 20,
   "metadata": {},
   "outputs": [
    {
     "name": "stdout",
     "output_type": "stream",
     "text": [
      "7\n"
     ]
    }
   ],
   "source": [
    "# =,赋值\n",
    "a=0\n",
    "c=a=4\n",
    "#+=,是缩写，\n",
    "a=0\n",
    "a+=7#a=a+7的缩写\n",
    "print(a)\n",
    "\n",
    "\n",
    "#所有运算符都有缩写形式\n",
    "# -=，*=，/=，//=，%=，**=，都是缩写形式"
   ]
  },
  {
   "cell_type": "code",
   "execution_count": null,
   "metadata": {
    "collapsed": true
   },
   "outputs": [],
   "source": [
    "#逻辑运算\n",
    "\n",
    ".对布尔值进行计算的符号\n",
    ".and逻辑与\n",
    ".or逻辑或\n",
    ".not逻辑非\n",
    ".python中没有异或运算\n",
    ".运算规则：\n",
    "     -and看做乘法，or看做加法，\n",
    "    -True看做1，False看做0\n",
    "    -则逻辑运算就能转换成整数数学运算\n",
    "    -最后结果如果是0则为False，否则为True\n",
    " \n",
    "逻辑运算的短路问题\n",
    "    -逻辑运算式，按照运算顺序计算，一旦能够确定整个式子未来的值，则不再进行计算，直接返回"
   ]
  },
  {
   "cell_type": "code",
   "execution_count": 21,
   "metadata": {},
   "outputs": [
    {
     "name": "stdout",
     "output_type": "stream",
     "text": [
      "True\n",
      "True\n"
     ]
    }
   ],
   "source": [
    "#逻辑运算符案例\n",
    "a=True\n",
    "b=False\n",
    "c=True\n",
    "\n",
    "#以下式子等价于d=1*0+1\n",
    "d=a and b or c\n",
    "print(d)\n",
    "\n",
    "d=a or b and a\n",
    "print(d)"
   ]
  },
  {
   "cell_type": "code",
   "execution_count": 22,
   "metadata": {},
   "outputs": [
    {
     "ename": "SyntaxError",
     "evalue": "invalid syntax (<ipython-input-22-6734bc534106>, line 8)",
     "output_type": "error",
     "traceback": [
      "\u001b[0;36m  File \u001b[0;32m\"<ipython-input-22-6734bc534106>\"\u001b[0;36m, line \u001b[0;32m8\u001b[0m\n\u001b[0;31m    a=a or (b=9) and 6\u001b[0m\n\u001b[0m             ^\u001b[0m\n\u001b[0;31mSyntaxError\u001b[0m\u001b[0;31m:\u001b[0m invalid syntax\n"
     ]
    }
   ],
   "source": [
    "#逻辑运算短路案例\n",
    "\n",
    "#下面的逻辑表达式，a的值一定是True,则运算到or的时候，整个表达式不在向下计算\n",
    "a=True or xxxxxxxxxx\n",
    "#下面表达式，如果xxx中包含赋值表达式，则结果很难预测\n",
    "#代码示例（伪代码）\n",
    "b=0\n",
    "a=a or (b=9) and 6\n",
    "#假定上面表达式如果没有语法错误\n",
    "#则b最终的值应该是0而不是9\n",
    "print(a)\n",
    "print(b)\n"
   ]
  },
  {
   "cell_type": "code",
   "execution_count": null,
   "metadata": {
    "collapsed": true
   },
   "outputs": [],
   "source": [
    "成员运算符\n",
    ".用来检测一个变量是否是另一个变量的成员\n",
    ".in\n",
    ".not in"
   ]
  },
  {
   "cell_type": "code",
   "execution_count": 23,
   "metadata": {},
   "outputs": [
    {
     "name": "stdout",
     "output_type": "stream",
     "text": [
      "False\n",
      "True\n",
      "False\n"
     ]
    }
   ],
   "source": [
    "#案例\n",
    "l=[1,2,3,4,5]\n",
    "a=7\n",
    "\n",
    "b=a in l\n",
    "print(b)\n",
    "\n",
    "a=4\n",
    "print(a in l)\n",
    "print(a not in l)"
   ]
  },
  {
   "cell_type": "code",
   "execution_count": null,
   "metadata": {
    "collapsed": true
   },
   "outputs": [],
   "source": [
    "##身份运算符\n",
    "-is:用来检测两个变量是否是同一个变量\n",
    "    -语法就是var1 is var2\n",
    "-is not:两个变量不是同一个变量\n",
    "    "
   ]
  },
  {
   "cell_type": "code",
   "execution_count": 25,
   "metadata": {},
   "outputs": [
    {
     "name": "stdout",
     "output_type": "stream",
     "text": [
      "True\n",
      "False\n"
     ]
    }
   ],
   "source": [
    "a=9\n",
    "b=9\n",
    "print(a is b)\n",
    "\n",
    "a=\"I love galaxy\"\n",
    "b=\"I love galaxy\"\n",
    "print(a is b)"
   ]
  },
  {
   "cell_type": "code",
   "execution_count": null,
   "metadata": {
    "collapsed": true
   },
   "outputs": [],
   "source": [
    "##运算符优先级问题\n",
    "-永远记住，括号具有最高优先级\n",
    "-优先级表格\n",
    "\n",
    "  **  指数 (最高优先级)\n",
    "  ~ + -   按位翻转, 一元加号和减号 (最后两个的方法名为 +@ 和 -@)\n",
    "  * / % //    乘，除，取模和取整除\n",
    "  + - 加法减法\n",
    "  >> <<   右移，左移运算符\n",
    "  &   位 'AND'\n",
    "  ^ | 位运算符\n",
    "  <= < > >=   比较运算符\n",
    "  <> == !=    等于运算符\n",
    "  = %= /= //= -= += *= **=    赋值运算符\n",
    "  is is not   身份运算符\n",
    "  in not in   成员运算符\n",
    "  not or and  逻辑运算符\n"
   ]
  },
  {
   "cell_type": "code",
   "execution_count": null,
   "metadata": {
    "collapsed": true
   },
   "outputs": [],
   "source": [
    "\n",
    "##程序结构\n",
    "-顺序\n",
    "-分支\n",
    "-循环"
   ]
  }
 ],
 "metadata": {
  "kernelspec": {
   "display_name": "Python 3",
   "language": "python",
   "name": "python3"
  },
  "language_info": {
   "codemirror_mode": {
    "name": "ipython",
    "version": 3
   },
   "file_extension": ".py",
   "mimetype": "text/x-python",
   "name": "python",
   "nbconvert_exporter": "python",
   "pygments_lexer": "ipython3",
   "version": "3.6.3"
  }
 },
 "nbformat": 4,
 "nbformat_minor": 2
}
