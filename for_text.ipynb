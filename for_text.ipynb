{
 "cells": [
  {
   "cell_type": "code",
   "execution_count": 5,
   "metadata": {},
   "outputs": [
    {
     "name": "stdout",
     "output_type": "stream",
     "text": [
      "* * * * * * * * * * * * * * * * * * * * "
     ]
    }
   ],
   "source": [
    "#打印一个矩形\n",
    "#控制行\n",
    "for i in range(1,5):\n",
    "    #控制列\n",
    "    for j in range(1,6):\n",
    "        print('*',end=\" \")"
   ]
  },
  {
   "cell_type": "code",
   "execution_count": 6,
   "metadata": {},
   "outputs": [
    {
     "name": "stdout",
     "output_type": "stream",
     "text": [
      "* * * * * \n",
      "\n",
      "* * * * * \n",
      "\n",
      "* * * * * \n",
      "\n",
      "* * * * * \n",
      "\n"
     ]
    }
   ],
   "source": [
    "#打印一个矩形\n",
    "#控制行\n",
    "for i in range(1,5):\n",
    "    #控制列\n",
    "    for j in range(1,6):\n",
    "        print('*',end=\" \")\n",
    "    #当第i行的5列输出完后进行换行\n",
    "    print(\"\\n\")"
   ]
  },
  {
   "cell_type": "code",
   "execution_count": 16,
   "metadata": {},
   "outputs": [
    {
     "name": "stdout",
     "output_type": "stream",
     "text": [
      "* * * * * \n",
      "* * * * * \n",
      "* * * * * \n",
      "* * * * * \n",
      "====================\n",
      "* * * * * \n",
      "*       * \n",
      "*       * \n",
      "* * * * * \n"
     ]
    }
   ],
   "source": [
    "#打印一个矩形\n",
    "#控制行\n",
    "for i in range(1,5):\n",
    "    #控制列\n",
    "    for j in range(1,6):\n",
    "        print('*',end=\" \")\n",
    "    #当第i行的5列输出完后进行换行\n",
    "    print()\n",
    "#分割一下输出,用的是字符串乘法\n",
    "print('='*20)\n",
    "\n",
    "#打印空心矩形\n",
    "for i in range(1,5):\n",
    "    for j in range(1,6):\n",
    "        if i==1 or i==4 or j==1 or j==5:\n",
    "            print(\"*\",end=\" \")\n",
    "        else:\n",
    "            print(' ',end=\" \")\n",
    "    \n",
    "    print()"
   ]
  },
  {
   "cell_type": "code",
   "execution_count": 27,
   "metadata": {},
   "outputs": [
    {
     "name": "stdout",
     "output_type": "stream",
     "text": [
      "* \n",
      "* * \n",
      "* * * \n",
      "* * * * \n",
      "====================\n",
      "* \n",
      "* * \n",
      "*   * \n",
      "*     * \n",
      "* * * * * \n"
     ]
    }
   ],
   "source": [
    "#打印直角三角形\n",
    "#控制行\n",
    "for i in range(1,5):\n",
    "   #控制列,规则是第一行第一列,第二行第二列\n",
    "    for j in range(5-i,5):\n",
    "        print('*',end=\" \")\n",
    "        \n",
    "    print()\n",
    "    \n",
    "print('='*20)\n",
    "#打印空心三角形\n",
    "for i in range(1,6):\n",
    "    for j in range(6-i,6):\n",
    "        if i==1 or i==5 or j==6-i or j==5:\n",
    "            print('*',end=\" \")\n",
    "        else:\n",
    "            print(' ',end=\" \")\n",
    "    print()"
   ]
  },
  {
   "cell_type": "code",
   "execution_count": 29,
   "metadata": {},
   "outputs": [
    {
     "name": "stdout",
     "output_type": "stream",
     "text": [
      "* * * * * \n",
      "* * * * \n",
      "* * * \n",
      "* * \n",
      "* \n",
      "====================\n",
      "* * * * * \n",
      "*     * \n",
      "*   * \n",
      "* * \n",
      "* \n"
     ]
    }
   ],
   "source": [
    "#打印直角三角形\n",
    "#控制行\n",
    "for i in range(1,6):\n",
    "   #控制列,规则是第一行五列,第二行是四列 i=1,j的范围6,i=2,j5\n",
    "    for j in range(1,7-i):\n",
    "        print('*',end=\" \")\n",
    "        \n",
    "    print()\n",
    "    \n",
    "print('='*20)\n",
    "#打印空心三角形\n",
    "for i in range(1,6):\n",
    "    for j in range(1,7-i):\n",
    "        if i==1 or i==5 or j==1 or j==7-i-1:\n",
    "            print('*',end=\" \")\n",
    "        else:\n",
    "            print(' ',end=\" \")\n",
    "    print()"
   ]
  },
  {
   "cell_type": "code",
   "execution_count": 33,
   "metadata": {},
   "outputs": [
    {
     "name": "stdout",
     "output_type": "stream",
     "text": [
      "     * \n",
      "    * * \n",
      "   * * * \n",
      "  * * * * \n",
      " * * * * * \n",
      "====================\n",
      "     * \n",
      "    * * \n",
      "   *   * \n",
      "  *     * \n",
      " * * * * * \n"
     ]
    }
   ],
   "source": [
    "\n",
    "#打印三角形\n",
    "#控制行\n",
    "for i in range(5):\n",
    "   \n",
    "    for j in range(0,5-i):\n",
    "        print(end=\" \")\n",
    "    for k in range(5-i,6):\n",
    "        print(\"*\",end=\" \")\n",
    "        \n",
    "    print()\n",
    "    \n",
    "print(\"=\"*20)\n",
    "#打印空心三角形\n",
    "for i in range(5):\n",
    "    for j in range(0,5-i):\n",
    "        print(end=\" \")\n",
    "    for k in range(5-i,6):\n",
    "        if i==0 or k==5-i or i==4 or k==5:\n",
    "            print('*',end=\" \")\n",
    "        else:\n",
    "            print(' ',end=\" \")\n",
    "    print()"
   ]
  },
  {
   "cell_type": "code",
   "execution_count": 35,
   "metadata": {},
   "outputs": [
    {
     "name": "stdout",
     "output_type": "stream",
     "text": [
      "    * * \n",
      "   * * * \n",
      "  * * * * \n",
      " * * * * * \n",
      "* * * * * * \n",
      "====================\n",
      "    * \n",
      "   * * \n",
      "  *   * \n",
      " *     * \n",
      "*       * \n"
     ]
    }
   ],
   "source": [
    "\n",
    "#打印三角形\n",
    "#控制行\n",
    "for i in range(1,6):\n",
    "   #更改打印起始位置\n",
    "    for j in range(1,6-i):\n",
    "        print(end=\" \")\n",
    "    #控制列,规则是第一行一列,第二行第二列\n",
    "    for k in range(5-i,6):\n",
    "        print(\"*\",end=\" \")\n",
    "        \n",
    "    print()\n",
    "    \n",
    "print(\"=\"*20)\n",
    "#打印空心三角形\n",
    "for i in range(1,6):\n",
    "    for k in range(1,6-i):\n",
    "        print(end=\" \")\n",
    "    for j in range(6-i,6):\n",
    "        if i==1 or k==5 or j==6-i or j==5:\n",
    "            print('*',end=\" \")\n",
    "        else:\n",
    "            print(' ',end=\" \")\n",
    "    print()"
   ]
  },
  {
   "cell_type": "code",
   "execution_count": null,
   "metadata": {
    "collapsed": true
   },
   "outputs": [],
   "source": []
  },
  {
   "cell_type": "code",
   "execution_count": null,
   "metadata": {
    "collapsed": true
   },
   "outputs": [],
   "source": []
  },
  {
   "cell_type": "code",
   "execution_count": null,
   "metadata": {
    "collapsed": true
   },
   "outputs": [],
   "source": []
  },
  {
   "cell_type": "code",
   "execution_count": null,
   "metadata": {
    "collapsed": true
   },
   "outputs": [],
   "source": []
  },
  {
   "cell_type": "code",
   "execution_count": null,
   "metadata": {
    "collapsed": true
   },
   "outputs": [],
   "source": []
  },
  {
   "cell_type": "code",
   "execution_count": null,
   "metadata": {
    "collapsed": true
   },
   "outputs": [],
   "source": []
  },
  {
   "cell_type": "code",
   "execution_count": null,
   "metadata": {
    "collapsed": true
   },
   "outputs": [],
   "source": []
  }
 ],
 "metadata": {
  "kernelspec": {
   "display_name": "Python 3",
   "language": "python",
   "name": "python3"
  },
  "language_info": {
   "codemirror_mode": {
    "name": "ipython",
    "version": 3
   },
   "file_extension": ".py",
   "mimetype": "text/x-python",
   "name": "python",
   "nbconvert_exporter": "python",
   "pygments_lexer": "ipython3",
   "version": "3.6.3"
  }
 },
 "nbformat": 4,
 "nbformat_minor": 2
}
